{
 "cells": [
  {
   "cell_type": "markdown",
   "metadata": {
    "id": "jrvwNQJi0P9l"
   },
   "source": [
    "Una empresa de comercio electrónico, Store 1, recientemente comenzó a recopilar datos sobre sus clientes. El objetivo final de Store 1 es comprender mejor el comportamiento de sus clientes y tomar decisiones basadas en datos para mejorar su experiencia online.\n",
    "\n",
    "Como parte del equipo de análisis, tu primera tarea es evaluar la calidad de una muestra de datos recopilados y prepararla para futuros análisis."
   ]
  },
  {
   "cell_type": "markdown",
   "metadata": {
    "id": "2utuFkVZ0P9p"
   },
   "source": [
    "# Cuestionario\n",
    "\n",
    "Store 1 tiene como objetivo garantizar la coherencia en la recopilación de datos. Como parte de esta iniciativa, se debe evaluar la calidad de los datos recopilados sobre los usuarios y las usuarias. Te han pedido que revises los datos recopilados y propongas cambios. A continuación verás datos sobre un usuario o una usuaria en particular; revisa los datos e identifica cualquier posible problema."
   ]
  },
  {
   "cell_type": "markdown",
   "metadata": {
    "id": "v4ldWAes0P9q"
   },
   "source": [
    "user_id = '32415'\n",
    "user_name = ' mike_reed '\n",
    "user_age = 32.0\n",
    "fav_categories = ['ELECTRONICS', 'SPORT', 'BOOKS']"
   ]
  },
  {
   "cell_type": "markdown",
   "metadata": {
    "id": "v5J9NgXf0P9r"
   },
   "source": [
    "**Opciones:**\n",
    "\n",
    "1. El tipo de datos para `user_id` debe cambiarse de una cadena a un número entero.\n",
    "    \n",
    "2. La variable `user_name` contiene una cadena que tiene espacios innecesarios y un guion bajo entre el nombre y el apellido.\n",
    "    \n",
    "3. El tipo de datos de `user_age` es incorrecto.\n",
    "    \n",
    "4. La lista `fav_categories` contiene cadenas en mayúsculas. En su lugar, deberíamos convertir los valores de la lista a minúsculas."
   ]
  },
  {
   "cell_type": "markdown",
   "metadata": {
    "id": "dZRSLSQV0P9s"
   },
   "source": [
    "Escribe en la celda Markdown a continuación el número de las opciones que has identificado como problemas. Si has identificado varios problemas, sepáralos con comas. Por ejemplo, si piensas que los números 1 y 3 son incorrectos, escribe 1, 3."
   ]
  },
  {
   "cell_type": "markdown",
   "metadata": {
    "id": "iCEVoi_A0P9s"
   },
   "source": [
    "**Escribe tu respuesta y explica tu argumentación:** 1,3  La información de user_id puede ser string y la opción 3 user_age si se encuentra en el formato de número float y se puede modificar a formato int.\n"
   ]
  },
  {
   "cell_type": "markdown",
   "metadata": {
    "id": "qKAtWDqu0P9t"
   },
   "source": [
    "# Ejercicio 1\n",
    "\n",
    "Vamos a implementar los cambios que identificamos. Primero, necesitamos corregir los problemas de la variable `user_name`. Como vimos, tiene espacios innecesarios y un guion bajo como separador entre el nombre y el apellido; tu objetivo es eliminar los espacios y luego reemplazar el guion bajo con el espacio."
   ]
  },
  {
   "cell_type": "code",
   "execution_count": 1,
   "metadata": {
    "id": "442z87Uq0P9t"
   },
   "outputs": [
    {
     "name": "stdout",
     "output_type": "stream",
     "text": [
      "mike reed\n"
     ]
    }
   ],
   "source": [
    "user_name = ' mike_reed '\n",
    "user_name = user_name.strip()# eliminar los espacios en la cadena original\n",
    "user_name = user_name.replace(\"_\",\" \")# reemplazar el guion bajo con el espacio\n",
    "\n",
    "print(user_name)"
   ]
  },
  {
   "cell_type": "markdown",
   "metadata": {
    "id": "g4YyN4WK0P9t"
   },
   "source": [
    "# Ejercicio 2\n",
    "\n",
    "Luego, debemos dividir el `user_name` (nombre de usuario o usuaria) actualizado en dos subcadenas para obtener una lista que contenga dos valores: la cadena para el nombre y la cadena para el apellido."
   ]
  },
  {
   "cell_type": "code",
   "execution_count": 2,
   "metadata": {
    "id": "Q1L1ARfY0P9u"
   },
   "outputs": [
    {
     "name": "stdout",
     "output_type": "stream",
     "text": [
      "['mike', 'reed']\n"
     ]
    }
   ],
   "source": [
    "user_name = 'mike reed'\n",
    "name_split = user_name.split(\" \")# divide aquí el string user_name\n",
    "\n",
    "print(name_split)"
   ]
  },
  {
   "cell_type": "markdown",
   "metadata": {
    "id": "-VWZkZtc0P9u"
   },
   "source": [
    "# Ejercicio 3\n",
    "\n",
    "¡Genial! Ahora debemos trabajar con la variable `user_age`. Como ya mencionamos, esta tiene un tipo de datos incorrecto. Arreglemos este problema transformando el tipo de datos y mostrando el resultado final."
   ]
  },
  {
   "cell_type": "code",
   "execution_count": 3,
   "metadata": {
    "id": "WPpidP470P9u"
   },
   "outputs": [
    {
     "name": "stdout",
     "output_type": "stream",
     "text": [
      "32\n"
     ]
    }
   ],
   "source": [
    "user_age = 32.0\n",
    "user_age = int(user_age)# cambia el tipo de datos para la edad de un usuario o usuaria\n",
    "\n",
    "print(user_age)"
   ]
  },
  {
   "cell_type": "markdown",
   "metadata": {
    "id": "xdfgaKd60P9v"
   },
   "source": [
    "# Ejercicio 4\n",
    "\n",
    "Como sabemos, los datos no siempre son perfectos. Debemos considerar escenarios en los que el valor de `user_age` no se pueda convertir en un número entero. Para evitar que nuestro sistema se bloquee, debemos tomar medidas con anticipación.\n",
    "\n",
    "Escribe un código que intente convertir la variable `user_age` en un número entero y asigna el valor transformado a `user_age_int`. Si el intento falla, mostramos un mensaje pidiendo al usuario o la usuaria que proporcione su edad como un valor numérico con el mensaje: `Please provide your age as a numerical value.` (Proporcione su edad como un valor numérico.)"
   ]
  },
  {
   "cell_type": "code",
   "execution_count": 4,
   "metadata": {
    "id": "duI5zn_O0P9v",
    "scrolled": true
   },
   "outputs": [
    {
     "name": "stdout",
     "output_type": "stream",
     "text": [
      "Please provide your age as a numerical value\n"
     ]
    }
   ],
   "source": [
    "user_age = 'treinta y dos' # aquí está la variable que almacena la edad como un string.\n",
    "try:\n",
    "    user_age = int(user_age)\n",
    "except:\n",
    "    print(\"Please provide your age as a numerical value\")\n",
    "# escribe un código que intente transformar user_age en un entero y si falla, imprime el mensaje especificado"
   ]
  },
  {
   "cell_type": "markdown",
   "metadata": {
    "id": "Q04i6KQH0P9v"
   },
   "source": [
    "# Ejercicio 5\n",
    "\n",
    "Finalmente, considera que todas las categorías favoritas se almacenan en mayúsculas. Para llenar una nueva lista llamada `fav_categories_low` con las mismas categorías, pero en minúsculas, itera los valores en la lista `fav_categories`, modifícalos y agrega los nuevos valores a la lista `fav_categories_low`. Como siempre, muestra el resultado final."
   ]
  },
  {
   "cell_type": "code",
   "execution_count": 5,
   "metadata": {
    "id": "AtQg6ie10P9v"
   },
   "outputs": [
    {
     "name": "stdout",
     "output_type": "stream",
     "text": [
      "['electronics', 'sport', 'books']\n"
     ]
    }
   ],
   "source": [
    "fav_categories = ['ELECTRONICS', 'SPORT', 'BOOKS']\n",
    "fav_categories_low = []\n",
    "\n",
    "\n",
    "for categories in fav_categories:\n",
    "    \n",
    "    fav_categories_low.append(categories.lower())\n",
    "    \n",
    "    \n",
    "     \n",
    "    # escribe tu código aquí\n",
    "\n",
    "# no elimines la siguiente declaración print\n",
    "print(fav_categories_low)"
   ]
  },
  {
   "cell_type": "markdown",
   "metadata": {
    "id": "w8J0RSee0P9w"
   },
   "source": [
    "# Ejercicio 6\n",
    "\n",
    "Hemos obtenido información adicional sobre los hábitos de gasto de nuestros usuarios y usuarias, incluido el importe gastado en cada una de sus categorías favoritas. La gerencia está interesada en las siguientes métricas:\n",
    "\n",
    "- Importe total gastado por el usuario o la usuaria.\n",
    "- Importe mínimo gastado.\n",
    "- Importe máximo gastado.\n",
    "\n",
    "Vamos a calcular estos valores y mostrarlos en la pantalla:"
   ]
  },
  {
   "cell_type": "code",
   "execution_count": 6,
   "metadata": {
    "id": "BbhBAmcZ0P9w"
   },
   "outputs": [
    {
     "name": "stdout",
     "output_type": "stream",
     "text": [
      "1280\n",
      "894\n",
      "173\n"
     ]
    }
   ],
   "source": [
    "fav_categories_low = ['electronics', 'sport', 'books']\n",
    "spendings_per_category = [894, 213, 173]\n",
    "\n",
    "total_amount = sum(spendings_per_category)# escribe tu código aquí\n",
    "max_amount   = max(spendings_per_category)# escribe tu código aquí\n",
    "min_amount   = min(spendings_per_category)# escribe tu código aquí\n",
    "\n",
    "# no elimines la siguiente declaración print\n",
    "print(total_amount)\n",
    "print(max_amount)\n",
    "print(min_amount)"
   ]
  },
  {
   "cell_type": "markdown",
   "metadata": {
    "id": "hyPGzOt60P9w"
   },
   "source": [
    "# Ejercicio 7\n",
    "\n",
    "La empresa quiere ofrecer descuentos a sus clientes leales. Los clientes y las clientas que realizan compras por un importe total mayor a $1500 se consideran leales y recibirán un descuento.\n",
    "\n",
    "Nuestro objetivo es crear un bucle `while` que compruebe el importe total gastado y se detenga al alcanzarlo. Para simular nuevas compras, la variable `new_purchase` genera un número entre 30 y 80 en cada iteración del bucle. Esto representa el importe de dinero gastado en una nueva compra y es lo que hay que sumar al total.\n",
    "\n",
    "Una vez que se alcance el importe objetivo y se termine el bucle `while`, se mostrará la cantidad final."
   ]
  },
  {
   "cell_type": "code",
   "execution_count": 1,
   "metadata": {
    "id": "FmpTfK7C0P9x",
    "scrolled": false
   },
   "outputs": [
    {
     "name": "stdout",
     "output_type": "stream",
     "text": [
      "1512\n"
     ]
    }
   ],
   "source": [
    "\n",
    "from random import randint\n",
    "\n",
    "total_amount_spent = 1280\n",
    "target_amount = 1500\n",
    "\n",
    "while total_amount_spent < target_amount: # escribe tu código aquí       ###Respuesta del estudiante se realizó la corrección.\n",
    "\tnew_purchase = randint(30, 80) # generamos un número aleatorio de 30 a 80\n",
    "\ttotal_amount_spent += new_purchase # escribe tu código aquí\n",
    "\n",
    "print(total_amount_spent)"
   ]
  },
  {
   "cell_type": "markdown",
   "metadata": {
    "id": "e9j2dOo60P9x"
   },
   "source": [
    "# Ejercicio 8\n",
    "\n",
    "Ahora tenemos toda la información sobre un cliente o una clienta de la forma que queremos que sea. La gerencia de una empresa nos pidió proponer una forma de resumir toda la información sobre un usuario o una usuaria. Tu objetivo es crear una cadena formateada que utilice información de las variables `user_id`, `user_name` y `user_age`.\n",
    "\n",
    "Esta es la cadena final que queremos crear: `User 32415 is mike who is 32 years old.` (El usuario 32415 es Mike, quien tiene 32 años)."
   ]
  },
  {
   "cell_type": "code",
   "execution_count": 8,
   "metadata": {
    "id": "2dzhjYbm0P9x"
   },
   "outputs": [
    {
     "name": "stdout",
     "output_type": "stream",
     "text": [
      "El usuario 32415,es mike quien tiene 32 años\n"
     ]
    }
   ],
   "source": [
    "user_id = '32415'\n",
    "user_name = ['mike', 'reed']\n",
    "user_age = 32\n",
    "\n",
    "user_name = user_name.pop(0)\n",
    "\n",
    "user_info =f\"El usuario {user_id},es {user_name} quien tiene {user_age} años\" # escribe tu código aquí\n",
    "\n",
    "# no elimines la siguiente declaración print\n",
    "print(user_info)"
   ]
  },
  {
   "cell_type": "markdown",
   "metadata": {
    "id": "hJ38hJYU0P9x"
   },
   "source": [
    "Como sabes, las empresas recopilan y almacenan datos de una forma particular. Store 1 desea almacenar toda la información sobre sus clientes y clientas en una tabla.\n",
    "\n",
    "| user_id | user_name | user_age | purchase_category | spending_per_category |\n",
    "| --- | --- | --- | --- | --- |\n",
    "| '32415' | 'mike', 'reed' | 32 | 'electronics', 'sport', 'books' | 894, 213, 173 |\n",
    "| '31980' | 'kate', 'morgan' | 24 | 'clothes', 'shoes' | 439, 390 |\n",
    "\n",
    "En términos técnicos, una tabla es simplemente una lista anidada que contiene una sublista para cada usuario o usuaria.\n",
    "\n",
    "Store 1 ha creado una tabla de este tipo para sus usuarios y usuarias. Se almacena en la variable `users`. Cada sublista contiene el ID del usuario o la usuaria, nombre y apellido, edad, categorías favoritas y el importe gastado en cada categoría."
   ]
  },
  {
   "cell_type": "markdown",
   "metadata": {
    "id": "J7IXD3Zv0P9x"
   },
   "source": [
    "# Ejercicio 9\n",
    "\n",
    "Para calcular los ingresos de la empresa, sigue estos pasos.\n",
    "\n",
    "1. Utiliza `for` para iterar sobre la lista `users`.\n",
    "2. Extrae la lista de gastos de cada usuario o usuaria y suma los valores.\n",
    "3. Actualiza el valor de los ingresos con el total de cada usuario o usuaria.\n",
    "\n",
    "Así obtendrás los ingresos totales de la empresa que mostrarás en la pantalla al final."
   ]
  },
  {
   "cell_type": "code",
   "execution_count": 2,
   "metadata": {
    "id": "d8jeNWXQ0P9y"
   },
   "outputs": [
    {
     "name": "stdout",
     "output_type": "stream",
     "text": [
      "2109\n"
     ]
    }
   ],
   "source": [
    "users = [\n",
    "\t  # este es el inicio de la primera sublista\n",
    "    ['32415', ['mike', 'reed'], 32, ['electronics', 'sport', 'books'],\n",
    "        [894, 213, 173]\n",
    "    ], # este es el final de la primera sublista\n",
    "\n",
    "    # este es el inicio de la segunda sublista\n",
    "    ['31980', ['kate', 'morgan'], 24, ['clothes', 'shoes'],\n",
    "        [439, 390]\n",
    "    ] # este es el final de la segunda sublista\n",
    "]\n",
    "\n",
    "revenue = 0\n",
    "\n",
    "for user in users:\n",
    "\tspendings_list = user[4]# extrae la lista de gastos de cada usuario o usuaria y suma los valores\n",
    "\ttotal_spendings = sum(spendings_list)# suma los gastos de todas las categorías para obtener el total de un usuario o una usuaria en particular\n",
    "\trevenue +=  total_spendings # Respuesta del estudiante se corrigió signo sin espacio ##\n",
    "    # actualiza los ingresos\n",
    "\n",
    "# no elimines la siguiente declaración print\n",
    "print(revenue)"
   ]
  },
  {
   "cell_type": "markdown",
   "metadata": {
    "id": "wR0om7Tk0P9y"
   },
   "source": [
    "# Ejercicio 10\n",
    "\n",
    "Recorre la lista de usuarios y usuarias que te hemos proporcionado y muestra los nombres de la clientela menor de 30 años."
   ]
  },
  {
   "cell_type": "code",
   "execution_count": 4,
   "metadata": {
    "id": "KVdthJm70P9y"
   },
   "outputs": [
    {
     "name": "stdout",
     "output_type": "stream",
     "text": [
      "El usuario ['kate', 'morgan'], es menor de 30 años\n",
      "El usuario ['samantha', 'smith'], es menor de 30 años\n",
      "El usuario ['emily', 'brown'], es menor de 30 años\n",
      "El usuario ['jose', 'martinez'], es menor de 30 años\n",
      "El usuario ['james', 'lee'], es menor de 30 años\n"
     ]
    }
   ],
   "source": [
    "users = [\n",
    "    ['32415', ['mike', 'reed'], 32, ['electronics', 'sport', 'books'],\n",
    "     [894, 213, 173]],\n",
    "    ['31980', ['kate', 'morgan'], 24, ['clothes', 'books'], [439,\n",
    "     390]],\n",
    "    ['32156', ['john', 'doe'], 37, ['electronics', 'home', 'food'],\n",
    "     [459, 120, 99]],\n",
    "    ['32761', ['samantha', 'smith'], 29, ['clothes', 'electronics',\n",
    "     'beauty'], [299, 679, 85]],\n",
    "    ['32984', ['david', 'white'], 41, ['books', 'home', 'sport'], [234,\n",
    "     329, 243]],\n",
    "    ['33001', ['emily', 'brown'], 26, ['beauty', 'home', 'food'], [213,\n",
    "     659, 79]],\n",
    "    ['33767', ['maria', 'garcia'], 33, ['clothes', 'food', 'beauty'],\n",
    "     [499, 189, 63]],\n",
    "    ['33912', ['jose', 'martinez'], 22, ['sport', 'electronics', 'home'\n",
    "     ], [259, 549, 109]],\n",
    "    ['34009', ['lisa', 'wilson'], 35, ['home', 'books', 'clothes'],\n",
    "     [329, 189, 329]],\n",
    "    ['34278', ['james', 'lee'], 28, ['beauty', 'clothes', 'electronics'\n",
    "     ], [189, 299, 579]],\n",
    "    ]\n",
    "\n",
    "for user in users:\n",
    "    if user[2] < 30:\n",
    "        print(f\"El usuario {user[1]}, es menor de 30 años\") # Respuesta del estudiante corregida"
   ]
  },
  {
   "cell_type": "markdown",
   "metadata": {
    "id": "LBHWQenm0P9y"
   },
   "source": [
    "# Ejercicio 11\n",
    "\n",
    "Juntemos las tareas 9 y 10 e imprimamos los nombres de los usuarios y las usuarias que tengan menos de 30 años y un gasto total superior a 1000 dólares."
   ]
  },
  {
   "cell_type": "code",
   "execution_count": 5,
   "metadata": {
    "id": "HaQNXS-V0P9z"
   },
   "outputs": [
    {
     "name": "stdout",
     "output_type": "stream",
     "text": [
      "['samantha', 'smith']\n",
      "['james', 'lee']\n"
     ]
    }
   ],
   "source": [
    "users = [\n",
    "    ['32415', ['mike', 'reed'], 32, ['electronics', 'sport', 'books'],\n",
    "     [894, 213, 173]],\n",
    "    ['31980', ['kate', 'morgan'], 24, ['clothes', 'books'], [439,\n",
    "     390]],\n",
    "    ['32156', ['john', 'doe'], 37, ['electronics', 'home', 'food'],\n",
    "     [459, 120, 99]],\n",
    "    ['32761', ['samantha', 'smith'], 29, ['clothes', 'electronics',\n",
    "     'beauty'], [299, 679, 85]],\n",
    "    ['32984', ['david', 'white'], 41, ['books', 'home', 'sport'], [234,\n",
    "     329, 243]],\n",
    "    ['33001', ['emily', 'brown'], 26, ['beauty', 'home', 'food'], [213,\n",
    "     659, 79]],\n",
    "    ['33767', ['maria', 'garcia'], 33, ['clothes', 'food', 'beauty'],\n",
    "     [499, 189, 63]],\n",
    "    ['33912', ['jose', 'martinez'], 22, ['sport', 'electronics', 'home'\n",
    "     ], [259, 549, 109]],\n",
    "    ['34009', ['lisa', 'wilson'], 35, ['home', 'books', 'clothes'],\n",
    "     [329, 189, 329]],\n",
    "    ['34278', ['james', 'lee'], 28, ['beauty', 'clothes', 'electronics'\n",
    "     ], [189, 299, 579]],\n",
    "    ]\n",
    "\n",
    "\n",
    "for user in users:\n",
    "    if user[2] < 30 and sum(user[4]) > 1000:  ## Respuesta del estudiante se corrigio signo \">\"\n",
    "        print(user[1])# escribe tu código aquí"
   ]
  },
  {
   "cell_type": "markdown",
   "metadata": {
    "id": "yRozkK0R0P90"
   },
   "source": [
    "# Ejercicio 12\n",
    "\n",
    "Ahora vamos a mostrar el nombre y la edad de todos los usuarios y todas las usuarias que han comprado ropa. Imprime el nombre y la edad en la misma declaración print."
   ]
  },
  {
   "cell_type": "code",
   "execution_count": 14,
   "metadata": {
    "id": "mSIyHq1f0P90"
   },
   "outputs": [
    {
     "name": "stdout",
     "output_type": "stream",
     "text": [
      "['kate', 'morgan'] 24\n",
      "['samantha', 'smith'] 29\n",
      "['maria', 'garcia'] 33\n",
      "['lisa', 'wilson'] 35\n",
      "['james', 'lee'] 28\n"
     ]
    }
   ],
   "source": [
    "users = [\n",
    "    ['32415', ['mike', 'reed'], 32, ['electronics', 'sport', 'books'],\n",
    "     [894, 213, 173]],\n",
    "    ['31980', ['kate', 'morgan'], 24, ['clothes', 'books'], [439,\n",
    "     390]],\n",
    "    ['32156', ['john', 'doe'], 37, ['electronics', 'home', 'food'],\n",
    "     [459, 120, 99]],\n",
    "    ['32761', ['samantha', 'smith'], 29, ['clothes', 'electronics',\n",
    "     'beauty'], [299, 679, 85]],\n",
    "    ['32984', ['david', 'white'], 41, ['books', 'home', 'sport'], [234,\n",
    "     329, 243]],\n",
    "    ['33001', ['emily', 'brown'], 26, ['beauty', 'home', 'food'], [213,\n",
    "     659, 79]],\n",
    "    ['33767', ['maria', 'garcia'], 33, ['clothes', 'food', 'beauty'],\n",
    "     [499, 189, 63]],\n",
    "    ['33912', ['jose', 'martinez'], 22, ['sport', 'electronics', 'home'\n",
    "     ], [259, 549, 109]],\n",
    "    ['34009', ['lisa', 'wilson'], 35, ['home', 'books', 'clothes'],\n",
    "     [329, 189, 329]],\n",
    "    ['34278', ['james', 'lee'], 28, ['beauty', 'clothes', 'electronics'\n",
    "     ], [189, 299, 579]],\n",
    "    ]\n",
    "\n",
    "for user in users:\n",
    "    if \"clothes\" in user[3]:\n",
    "        print(user[1],user[2])#escribe tu código aquí"
   ]
  }
 ],
 "metadata": {
  "ExecuteTimeLog": [
   {
    "duration": 9,
    "start_time": "2024-05-27T19:35:08.222Z"
   },
   {
    "duration": 309,
    "start_time": "2024-05-27T19:44:17.353Z"
   },
   {
    "duration": 5,
    "start_time": "2024-05-27T19:47:08.748Z"
   },
   {
    "duration": 5,
    "start_time": "2024-05-27T19:47:50.579Z"
   },
   {
    "duration": 4,
    "start_time": "2024-05-27T19:51:01.238Z"
   },
   {
    "duration": 4,
    "start_time": "2024-05-27T19:52:06.290Z"
   },
   {
    "duration": 22,
    "start_time": "2024-05-27T19:55:05.187Z"
   },
   {
    "duration": 20,
    "start_time": "2024-05-27T19:56:26.310Z"
   },
   {
    "duration": 5,
    "start_time": "2024-05-27T19:58:36.998Z"
   },
   {
    "duration": 5,
    "start_time": "2024-05-27T19:58:39.494Z"
   },
   {
    "duration": 27,
    "start_time": "2024-05-27T20:11:36.757Z"
   },
   {
    "duration": 22,
    "start_time": "2024-05-27T20:13:13.079Z"
   },
   {
    "duration": 5,
    "start_time": "2024-05-27T20:21:46.302Z"
   },
   {
    "duration": 6,
    "start_time": "2024-05-27T20:21:50.829Z"
   },
   {
    "duration": 5,
    "start_time": "2024-05-27T20:22:26.614Z"
   },
   {
    "duration": 6,
    "start_time": "2024-05-27T20:26:32.763Z"
   },
   {
    "duration": 5,
    "start_time": "2024-05-27T20:26:54.715Z"
   },
   {
    "duration": 6,
    "start_time": "2024-05-27T20:28:25.989Z"
   },
   {
    "duration": 25,
    "start_time": "2024-05-27T20:28:43.696Z"
   },
   {
    "duration": 26,
    "start_time": "2024-05-27T20:29:37.606Z"
   },
   {
    "duration": 6,
    "start_time": "2024-05-27T20:30:46.119Z"
   },
   {
    "duration": 5,
    "start_time": "2024-05-27T20:31:19.734Z"
   },
   {
    "duration": 14,
    "start_time": "2024-05-28T15:04:27.378Z"
   },
   {
    "duration": 5,
    "start_time": "2024-05-28T15:10:07.159Z"
   },
   {
    "duration": 305,
    "start_time": "2024-05-28T15:10:30.041Z"
   },
   {
    "duration": 5,
    "start_time": "2024-05-28T15:11:35.538Z"
   },
   {
    "duration": 5,
    "start_time": "2024-05-28T15:12:04.638Z"
   },
   {
    "duration": 5,
    "start_time": "2024-05-28T15:19:51.864Z"
   },
   {
    "duration": 30,
    "start_time": "2024-05-28T15:21:52.009Z"
   },
   {
    "duration": 6,
    "start_time": "2024-05-28T15:23:04.919Z"
   },
   {
    "duration": 5,
    "start_time": "2024-05-28T15:58:42.784Z"
   },
   {
    "duration": 24,
    "start_time": "2024-05-28T16:05:20.657Z"
   },
   {
    "duration": 5,
    "start_time": "2024-05-28T16:22:53.394Z"
   },
   {
    "duration": 6,
    "start_time": "2024-05-28T16:23:48.767Z"
   },
   {
    "duration": 8,
    "start_time": "2024-05-28T16:27:00.485Z"
   },
   {
    "duration": 23,
    "start_time": "2024-05-28T16:27:23.530Z"
   },
   {
    "duration": 5,
    "start_time": "2024-05-28T16:28:36.015Z"
   },
   {
    "duration": 6,
    "start_time": "2024-05-28T16:31:08.721Z"
   },
   {
    "duration": 5,
    "start_time": "2024-05-28T16:31:29.212Z"
   },
   {
    "duration": 6,
    "start_time": "2024-05-28T16:36:49.492Z"
   },
   {
    "duration": 25,
    "start_time": "2024-05-28T16:42:42.191Z"
   },
   {
    "duration": 24,
    "start_time": "2024-05-28T16:45:07.243Z"
   },
   {
    "duration": 8,
    "start_time": "2024-05-28T16:45:46.017Z"
   },
   {
    "duration": 7,
    "start_time": "2024-05-28T16:50:42.495Z"
   },
   {
    "duration": 24,
    "start_time": "2024-05-28T16:51:14.385Z"
   },
   {
    "duration": 5,
    "start_time": "2024-05-28T16:53:05.636Z"
   },
   {
    "duration": 57,
    "start_time": "2024-05-28T16:54:15.887Z"
   },
   {
    "duration": 27,
    "start_time": "2024-05-28T16:54:45.422Z"
   },
   {
    "duration": 9,
    "start_time": "2024-05-28T16:54:57.732Z"
   },
   {
    "duration": 12,
    "start_time": "2024-05-29T00:35:50.595Z"
   },
   {
    "duration": 10,
    "start_time": "2024-05-29T00:46:49.660Z"
   },
   {
    "duration": 17,
    "start_time": "2024-05-29T00:51:21.344Z"
   },
   {
    "duration": 357,
    "start_time": "2024-05-29T01:03:16.176Z"
   },
   {
    "duration": 13,
    "start_time": "2024-05-29T01:22:21.296Z"
   },
   {
    "duration": 12,
    "start_time": "2024-05-29T01:23:34.254Z"
   },
   {
    "duration": 11,
    "start_time": "2024-05-29T01:23:51.510Z"
   },
   {
    "duration": 11,
    "start_time": "2024-05-29T01:24:19.858Z"
   },
   {
    "duration": 11,
    "start_time": "2024-05-29T01:24:29.929Z"
   },
   {
    "duration": 38,
    "start_time": "2024-05-29T01:31:05.563Z"
   },
   {
    "duration": 11,
    "start_time": "2024-05-29T01:31:12.573Z"
   },
   {
    "duration": 13,
    "start_time": "2024-05-29T01:48:44.078Z"
   },
   {
    "duration": 5,
    "start_time": "2024-05-29T01:48:54.288Z"
   },
   {
    "duration": 4,
    "start_time": "2024-05-29T03:28:32.444Z"
   },
   {
    "duration": 7,
    "start_time": "2024-05-29T03:33:12.962Z"
   },
   {
    "duration": 8,
    "start_time": "2024-05-29T03:36:05.658Z"
   },
   {
    "duration": 11,
    "start_time": "2024-05-29T03:39:03.663Z"
   },
   {
    "duration": 10,
    "start_time": "2024-05-29T22:09:17.691Z"
   },
   {
    "duration": 5,
    "start_time": "2024-05-29T22:09:17.704Z"
   },
   {
    "duration": 5,
    "start_time": "2024-05-29T22:09:17.713Z"
   },
   {
    "duration": 4,
    "start_time": "2024-05-29T22:09:17.722Z"
   },
   {
    "duration": 5,
    "start_time": "2024-05-29T22:09:17.729Z"
   },
   {
    "duration": 6,
    "start_time": "2024-05-29T22:09:17.738Z"
   },
   {
    "duration": 60,
    "start_time": "2024-05-29T22:09:17.747Z"
   },
   {
    "duration": 6,
    "start_time": "2024-05-29T22:09:17.810Z"
   },
   {
    "duration": 10,
    "start_time": "2024-05-29T22:09:17.820Z"
   },
   {
    "duration": 0,
    "start_time": "2024-05-29T22:09:17.836Z"
   },
   {
    "duration": 0,
    "start_time": "2024-05-29T22:09:17.839Z"
   },
   {
    "duration": 0,
    "start_time": "2024-05-29T22:09:17.840Z"
   },
   {
    "duration": 7,
    "start_time": "2024-05-29T22:11:56.914Z"
   },
   {
    "duration": 7,
    "start_time": "2024-05-29T22:12:01.244Z"
   },
   {
    "duration": 11,
    "start_time": "2024-05-29T22:12:36.646Z"
   },
   {
    "duration": 11,
    "start_time": "2024-05-29T22:12:36.946Z"
   },
   {
    "duration": 10,
    "start_time": "2024-05-29T22:12:37.237Z"
   },
   {
    "duration": 10,
    "start_time": "2024-05-30T00:01:57.989Z"
   },
   {
    "duration": 6,
    "start_time": "2024-05-30T00:03:21.665Z"
   },
   {
    "duration": 11,
    "start_time": "2024-05-30T00:08:14.196Z"
   },
   {
    "duration": 10,
    "start_time": "2024-05-30T00:10:50.683Z"
   },
   {
    "duration": 12,
    "start_time": "2024-05-30T00:12:27.013Z"
   }
  ],
  "colab": {
   "provenance": []
  },
  "kernelspec": {
   "display_name": "Python 3 (ipykernel)",
   "language": "python",
   "name": "python3"
  },
  "language_info": {
   "codemirror_mode": {
    "name": "ipython",
    "version": 3
   },
   "file_extension": ".py",
   "mimetype": "text/x-python",
   "name": "python",
   "nbconvert_exporter": "python",
   "pygments_lexer": "ipython3",
   "version": "3.9.19"
  },
  "toc": {
   "base_numbering": 1,
   "nav_menu": {},
   "number_sections": true,
   "sideBar": true,
   "skip_h1_title": true,
   "title_cell": "Table of Contents",
   "title_sidebar": "Contents",
   "toc_cell": false,
   "toc_position": {},
   "toc_section_display": true,
   "toc_window_display": false
  }
 },
 "nbformat": 4,
 "nbformat_minor": 1
}
